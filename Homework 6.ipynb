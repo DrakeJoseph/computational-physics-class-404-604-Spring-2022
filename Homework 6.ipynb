{
 "cells": [
  {
   "cell_type": "code",
   "execution_count": 65,
   "id": "8cb35069",
   "metadata": {
    "scrolled": true
   },
   "outputs": [
    {
     "data": {
      "image/png": "[encoded data removed]",
      "text/plain": [
       "<Figure size 432x288 with 1 Axes>"
      ]
     },
     "metadata": {
      "needs_background": "light"
     },
     "output_type": "display_data"
    }
   ],
   "source": [
    "# Homework 6\n",
    "# Drake Joseph\n",
    "\n",
    "# Undergraduate student:\n",
    "# A person throws a ball upwards at a speed of 10 m/s, please calculate the trajectory using Runge-Kutta method\n",
    "# and plot height (z) vs time (t).\n",
    "\n",
    "#-----------------------------------------------------------#\n",
    "\n",
    "import numpy as np\n",
    "import matplotlib.pyplot as plt\n",
    "\n",
    "#Initial variables\n",
    "tend=3\n",
    "h=0.001\n",
    "y=[1.,0.]\n",
    "t=2.04\n",
    "#Since ball is thrown upwards, theta = 90 degrees. \n",
    "#Just use a kinematic equation to solve (don't need theta).\n",
    "\n",
    "#Define trajectory functions\n",
    "def f(t, y):\n",
    "    f=np.zeros(2)\n",
    "    f[0]=y[1] \n",
    "    f[1]=(0 + 10*t-(9.8*(t**2))/2) #Kinematic equation\n",
    "    return f\n",
    "\n",
    "#-----------------------------------------------------------#\n",
    "#Runge Kutta 4 scheme taken from Lecture 7\n",
    "def rk4(t, h, y, n):\n",
    "    k1 = np.zeros(n)\n",
    "    k2 = np.zeros(n)\n",
    "    k3 = np.zeros(n)\n",
    "    k4 = np.zeros(n)\n",
    "    k1=h*f(t,y)\n",
    "    k2=h*f(t+0.5*h,y+0.5*k1)\n",
    "    k3=h*f(t+0.5*h,y+0.5*k2)\n",
    "    k4=h*f(t+h,y+k3)\n",
    "    y = y + (1/6)*(k1+2*k2+2*k3+k4)\n",
    "    return y\n",
    "\n",
    "#-----------------------------------------------------------#\n",
    "#Fill x and y arrays with values\n",
    "xp=[]\n",
    "yp=[]\n",
    "while(t<tend):\n",
    "    if((t+h)>tend):\n",
    "        h=tend-t\n",
    "    y = rk4(t,h,y,2)\n",
    "    xp=np.append(xp,t)#Append t values into x axis array\n",
    "    yp=np.append(yp,y[1])#Append y values into y axis array\n",
    "    t = t+h\n",
    "\n",
    "#-----------------------------------------------------------#\n",
    "#Plot\n",
    "plt.xlabel(\"Time (s)\")\n",
    "plt.ylabel(\"Height (m)\")\n",
    "plt.plot(xp,yp)\n",
    "plt.show()\n",
    "\n",
    "#Conclusion: The above method yields an incorrect answer. However, only a few corrections to the trajectory functions\n",
    "#should solve the problem. Analytical solutions show that the maximum height should be:\n",
    "# Max height = 5.098m @ t = 1.02s, Final height = 0 @ t = 2.04s"
   ]
  },
  {
   "cell_type": "code",
   "execution_count": null,
   "id": "d1a073f6",
   "metadata": {},
   "outputs": [],
   "source": []
  }
 ],
 "metadata": {
  "kernelspec": {
   "display_name": "Python 3 (ipykernel)",
   "language": "python",
   "name": "python3"
  },
  "language_info": {
   "codemirror_mode": {
    "name": "ipython",
    "version": 3
   },
   "file_extension": ".py",
   "mimetype": "text/x-python",
   "name": "python",
   "nbconvert_exporter": "python",
   "pygments_lexer": "ipython3",
   "version": "3.9.7"
  }
 },
 "nbformat": 4,
 "nbformat_minor": 5
}
