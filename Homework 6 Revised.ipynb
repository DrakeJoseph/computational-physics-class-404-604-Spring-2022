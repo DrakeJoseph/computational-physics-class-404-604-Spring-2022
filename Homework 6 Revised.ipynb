{
 "cells": [
  {
   "cell_type": "code",
   "execution_count": 6,
   "id": "79554422",
   "metadata": {
    "scrolled": true
   },
   "outputs": [
    {
     "data": {
      "image/png": "[encoded data removed]",
      "text/plain": [
       "<Figure size 432x288 with 1 Axes>"
      ]
     },
     "metadata": {
      "needs_background": "light"
     },
     "output_type": "display_data"
    }
   ],
   "source": [
    "# Homework 6\n",
    "# Drake Joseph\n",
    "\n",
    "# Undergraduate student:\n",
    "# A person throws a ball upwards at a speed of 10 m/s, please calculate the trajectory using Runge-Kutta method\n",
    "# and plot height (z) vs time (t).\n",
    "\n",
    "#-----------------------------------------------------------#\n",
    "\n",
    "import numpy as np\n",
    "import matplotlib.pyplot as plt\n",
    "\n",
    "#Initial variables\n",
    "tend=2\n",
    "h=0.01\n",
    "y=[0.,9.8]\n",
    "t=0\n",
    "g = -9.8\n",
    "#Since ball is thrown upwards, theta = 90 degrees. \n",
    "\n",
    "#Define trajectory functions\n",
    "def f(t, y):\n",
    "    f=np.zeros(2)\n",
    "    f[1]=g\n",
    "    f[0]=y[1]\n",
    "    return f\n",
    "\n",
    "#-----------------------------------------------------------#\n",
    "#Runge Kutta 4 scheme taken from Lecture 7\n",
    "def rk4(t, h, y, n):\n",
    "    k1 = np.zeros(n)\n",
    "    k2 = np.zeros(n)\n",
    "    k3 = np.zeros(n)\n",
    "    k4 = np.zeros(n)\n",
    "    k1=h*f(t,y)\n",
    "    k2=h*f(t+0.5*h,y+0.5*k1)\n",
    "    k3=h*f(t+0.5*h,y+0.5*k2)\n",
    "    k4=h*f(t+h,y+k3)\n",
    "    y = y + (1/6)*(k1+2*k2+2*k3+k4)\n",
    "    return y\n",
    "\n",
    "#-----------------------------------------------------------#\n",
    "#Fill x and y arrays with values\n",
    "xp=[]\n",
    "yp=[]\n",
    "while(t<tend):\n",
    "    if((t+h)>tend):\n",
    "        h=tend-t\n",
    "    y = rk4(t,h,y,2)\n",
    "    yp=np.append(yp,y[0])\n",
    "    t = t+h\n",
    "    xp=np.append(xp,t)\n",
    "\n",
    "#-----------------------------------------------------------#\n",
    "#Plot\n",
    "plt.xlabel(\"Time (s)\")\n",
    "plt.ylabel(\"Height (m)\")\n",
    "plt.plot(xp,yp)\n",
    "plt.show()"
   ]
  },
  {
   "cell_type": "code",
   "execution_count": null,
   "id": "57ea0982",
   "metadata": {},
   "outputs": [],
   "source": []
  }
 ],
 "metadata": {
  "kernelspec": {
   "display_name": "Python 3 (ipykernel)",
   "language": "python",
   "name": "python3"
  },
  "language_info": {
   "codemirror_mode": {
    "name": "ipython",
    "version": 3
   },
   "file_extension": ".py",
   "mimetype": "text/x-python",
   "name": "python",
   "nbconvert_exporter": "python",
   "pygments_lexer": "ipython3",
   "version": "3.9.7"
  }
 },
 "nbformat": 4,
 "nbformat_minor": 5
}
