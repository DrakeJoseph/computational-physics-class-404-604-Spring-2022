{
 "cells": [
  {
   "cell_type": "code",
   "execution_count": 18,
   "id": "c28f214d",
   "metadata": {},
   "outputs": [
    {
     "name": "stdout",
     "output_type": "stream",
     "text": [
      "i = 0  \t x1 = 2.2  \t x2 = 4.632000000000001\n",
      "i = 1  \t x1 = 1.9229262620172987  \t x2 = 3.4947428051099916\n",
      "i = 2  \t x1 = 1.988762856742091  \t x2 = 3.0268379717726304\n",
      "i = 3  \t x1 = 1.999979499316995  \t x2 = 3.000000894659019\n",
      "i = 4  \t x1 = 2.0000000000757194  \t x2 = 2.999999999991307\n",
      "Root x1 =  2.0000000000757194 x2 =  2.999999999991307\n"
     ]
    }
   ],
   "source": [
    "#Homework 5\n",
    "# Using Newton-Raphson method to solve equation arrays\n",
    "# Hint: first you need to derive the partical derivative of the equation arrays. You can do it either \n",
    "# analytically by hand or numerically using method we learned in the last lecture.\n",
    "\n",
    "import matplotlib.pyplot as plt\n",
    "import numpy as np\n",
    "\n",
    "#initial guess, must define x1 and x2 or nothing will compile...\n",
    "x1 = 1\n",
    "x2 = 2\n",
    "Nmax = 100\n",
    "eps = 1.e-8\n",
    "\n",
    "#By utilizing the equtions from lecture 5, we obtain the partial derivatives below.\n",
    "def f1(x1,x2): #Original function 1\n",
    "    return (x1*x1+x1*x2-10.)\n",
    "\n",
    "def f2(x1,x2): #Original Function 2\n",
    "    return (x2+3*x1*x2*x2-57)\n",
    "\n",
    "def f1x1(x1,x2): #Partial derivative of f1 with respect to x1\n",
    "    return (2*x1 + x2)\n",
    "a = f1x1(x1,x2) #Define a, b, c, and d to make the notation easier\n",
    "\n",
    "def f1x2(x1,x2): #Partial derivative of f1 with respect to x2\n",
    "    return (x1)\n",
    "b = f1x2(x1,x2)\n",
    "\n",
    "def f2x1(x1,x2): #Partial derivative of f2 with respect to x1\n",
    "    return (3*x2**2)\n",
    "c = f2x1(x1,x2)\n",
    "\n",
    "def f2x2(x1,x2): #Partial derivative of f2 with respect to x2\n",
    "    return (1+6*x1*x2)\n",
    "d = f2x2(x1,x2)\n",
    "\n",
    "#Utilize the equations from lecture 5 to compute delta x1 and x2.\n",
    "def dx1(f1,f2,f1x1,f1x2,f2x1,f2x2,x1,x2):\n",
    "    return ((b*f2 - d*f1)/(a*d-b*c))\n",
    "\n",
    "def dx2(f1,f2,f1x1,f1x2,f2x1,f2x2,x1,x2):\n",
    "    return ((c*f1-a*f2)/(a*d-b*c))\n",
    "\n",
    "for i in range(0, Nmax):\n",
    "    #Note, must redefine a, b, c, and d for this to work...\n",
    "    a = f1x1(x1,x2)\n",
    "    b = f1x2(x1,x2)\n",
    "    c = f2x1(x1,x2)\n",
    "    d = f2x2(x1,x2)\n",
    "    x1=x1+dx1(f1(x1,x2), f2(x1,x2), f1x1(x1,x2), f1x2(x1,x2), f2x1(x1,x2), f2x2(x1,x2), x1, x2)\n",
    "    x2=x2+dx2(f1(x1,x2), f2(x1,x2), f1x1(x1,x2), f1x2(x1,x2), f2x1(x1,x2), f2x2(x1,x2), x1, x2)\n",
    "    print(\"i =\", i, \" \\t x1 =\", x1, \" \\t x2 =\", x2)\n",
    "    if abs(f1(x1,x2))<eps and abs(f2(x1,x2))<eps:\n",
    "        print(\"Root x1 = \", x1, \"x2 = \", x2)\n",
    "        break"
   ]
  },
  {
   "cell_type": "code",
   "execution_count": null,
   "id": "5759faf0",
   "metadata": {},
   "outputs": [],
   "source": []
  }
 ],
 "metadata": {
  "kernelspec": {
   "display_name": "Python 3 (ipykernel)",
   "language": "python",
   "name": "python3"
  },
  "language_info": {
   "codemirror_mode": {
    "name": "ipython",
    "version": 3
   },
   "file_extension": ".py",
   "mimetype": "text/x-python",
   "name": "python",
   "nbconvert_exporter": "python",
   "pygments_lexer": "ipython3",
   "version": "3.9.7"
  }
 },
 "nbformat": 4,
 "nbformat_minor": 5
}
