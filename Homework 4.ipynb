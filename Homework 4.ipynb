{
 "cells": [
  {
   "cell_type": "code",
   "execution_count": 89,
   "id": "9a97e524",
   "metadata": {},
   "outputs": [
    {
     "name": "stdout",
     "output_type": "stream",
     "text": [
      "forward difference -0.7412547450958928\n",
      "forward difference -0.7106305005757041\n",
      "forward difference -0.7074602166965427\n",
      "forward difference -0.707142135347727\n",
      "forward difference -0.7071103167111125\n",
      "forward difference -0.7071071347342084\n",
      "forward difference -0.7071068164332672\n",
      "forward difference -0.7071067953390298\n",
      "forward difference -0.7071068175434903\n",
      "forward difference -0.7071065954988853\n",
      "forward difference -0.7071121466140085\n",
      "forward difference -0.7071010443837622\n",
      "forward difference -0.7072120666862247\n",
      "forward difference -0.7105427357601002\n",
      "forward difference -0.7771561172376095\n",
      "forward difference -1.1102230246251565\n"
     ]
    }
   ],
   "source": [
    "#Write a program to numerically evaluate the derivative of f(x)=cos x at an arbitrary position x.\n",
    "\n",
    "#1) Evaluate the derivative at position x using the forward difference scheme. Plot log(Error)=log10|f’(numerically)-f’(analytic)| against log10(dx) for dx=1e-16,1e-15,….,0.1 at x=π/4. You should find Error~\n",
    "#; what is n? what is the optimal value for dx.\n",
    "\n",
    "import numpy as np\n",
    "import matplotlib.pyplot as plt\n",
    "#Analytically, the derivative of cosx is -sinx.\n",
    "# Forward Difference, taken from Lec4 notes\n",
    "def derifw(cos,x,dx):\n",
    "    return (cos(x+dx)-cos(x))/dx\n",
    "\n",
    "x= pi/4\n",
    "#The below code cycles through each value of dx. It would be easier to do this with a for loop...\n",
    "#Note: I could not find how to cycle through an array with exponential values... So, I hand-typed typed them.\n",
    "dx = 0.1\n",
    "print('forward difference',derifw(cos,x,dx))\n",
    "dx = 0.01\n",
    "print('forward difference',derifw(cos,x,dx)) \n",
    "dx = 0.001\n",
    "print('forward difference',derifw(cos,x,dx)) \n",
    "dx = 0.0001\n",
    "print('forward difference',derifw(cos,x,dx)) \n",
    "dx = 0.00001\n",
    "print('forward difference',derifw(cos,x,dx))\n",
    "dx = 0.000001\n",
    "print('forward difference',derifw(cos,x,dx)) \n",
    "dx = 0.0000001\n",
    "print('forward difference',derifw(cos,x,dx))\n",
    "dx = 0.00000001\n",
    "print('forward difference',derifw(cos,x,dx)) \n",
    "dx = 0.000000001\n",
    "print('forward difference',derifw(cos,x,dx)) \n",
    "dx = 0.0000000001\n",
    "print('forward difference',derifw(cos,x,dx)) \n",
    "dx = 0.00000000001\n",
    "print('forward difference',derifw(cos,x,dx)) \n",
    "dx = 0.000000000001\n",
    "print('forward difference',derifw(cos,x,dx)) \n",
    "dx = 0.0000000000001\n",
    "print('forward difference',derifw(cos,x,dx))\n",
    "dx = 0.00000000000001\n",
    "print('forward difference',derifw(cos,x,dx)) \n",
    "dx = 0.000000000000001\n",
    "print('forward difference',derifw(cos,x,dx)) \n",
    "dx = 0.0000000000000001\n",
    "print('forward difference',derifw(cos,x,dx)) \n"
   ]
  },
  {
   "cell_type": "code",
   "execution_count": 70,
   "id": "521d19ff",
   "metadata": {},
   "outputs": [
    {
     "name": "stdout",
     "output_type": "stream",
     "text": [
      "dx 1e-06,  y -0.841471\n",
      "dx 1.25893e-06,  y -0.841471\n",
      "dx 1.58489e-06,  y -0.841471\n",
      "dx 1.99526e-06,  y -0.841472\n",
      "dx 2.51189e-06,  y -0.841472\n",
      "dx 3.16228e-06,  y -0.841472\n",
      "dx 3.98107e-06,  y -0.841472\n",
      "dx 5.01187e-06,  y -0.841472\n",
      "dx 6.30957e-06,  y -0.841473\n",
      "dx 7.94328e-06,  y -0.841473\n",
      "dx 1e-05,  y -0.841474\n",
      "dx 1.25893e-05,  y -0.841474\n",
      "dx 1.58489e-05,  y -0.841475\n",
      "dx 1.99526e-05,  y -0.841476\n",
      "dx 2.51189e-05,  y -0.841478\n",
      "dx 3.16228e-05,  y -0.84148\n",
      "dx 3.98107e-05,  y -0.841482\n",
      "dx 5.01187e-05,  y -0.841485\n",
      "dx 6.30957e-05,  y -0.841488\n",
      "dx 7.94328e-05,  y -0.841492\n",
      "dx 0.0001,  y -0.841498\n",
      "dx 0.000125893,  y -0.841505\n",
      "dx 0.000158489,  y -0.841514\n",
      "dx 0.000199526,  y -0.841525\n",
      "dx 0.000251189,  y -0.841539\n",
      "dx 0.000316228,  y -0.841556\n",
      "dx 0.000398107,  y -0.841579\n",
      "dx 0.000501187,  y -0.841606\n",
      "dx 0.000630957,  y -0.841641\n",
      "dx 0.000794328,  y -0.841685\n",
      "dx 0.001,  y -0.841741\n",
      "dx 0.00125893,  y -0.841811\n",
      "dx 0.00158489,  y -0.841899\n",
      "dx 0.00199526,  y -0.842009\n",
      "dx 0.00251189,  y -0.842149\n",
      "dx 0.00316228,  y -0.842324\n",
      "dx 0.00398107,  y -0.842544\n",
      "dx 0.00501187,  y -0.842821\n",
      "dx 0.00630957,  y -0.84317\n",
      "dx 0.00794328,  y -0.843608\n",
      "dx 0.01,  y -0.844158\n",
      "dx 0.0125893,  y -0.84485\n",
      "dx 0.0158489,  y -0.845717\n",
      "dx 0.0199526,  y -0.846805\n",
      "dx 0.0251189,  y -0.848168\n",
      "dx 0.0316228,  y -0.849873\n",
      "dx 0.0398107,  y -0.852002\n",
      "dx 0.0501187,  y -0.854656\n",
      "dx 0.0630957,  y -0.857953\n",
      "dx 0.0794328,  y -0.862034\n",
      "dx 0.1,  y -0.867062\n",
      "dx 0.125893,  y -0.873215\n",
      "dx 0.158489,  y -0.880679\n",
      "dx 0.199526,  y -0.889622\n",
      "dx 0.251189,  y -0.900153\n"
     ]
    }
   ],
   "source": [
    "#Code taken from Lec4\n",
    "import numpy as np\n",
    "x=1.0\n",
    "dxarr=[]\n",
    "yarr=[]\n",
    "for dx in 10**np.arange(-6, -0.5, 0.1):\n",
    "    y=derifw(cos,x,dx)\n",
    "    print('dx %g,  y %g'%(dx,y))\n",
    "    dxarr.append(dx)\n",
    "    yarr.append(y)"
   ]
  },
  {
   "cell_type": "code",
   "execution_count": 71,
   "id": "4fcb19ff",
   "metadata": {},
   "outputs": [
    {
     "data": {
      "image/png": "[encoded data removed]",
      "text/plain": [
       "<Figure size 432x288 with 1 Axes>"
      ]
     },
     "metadata": {
      "needs_background": "light"
     },
     "output_type": "display_data"
    }
   ],
   "source": [
    "#Code taken from Lec4\n",
    "import numpy as np\n",
    "import matplotlib.pyplot as plt\n",
    "\n",
    "plt.plot(dxarr, abs(yarr-np.cos(1.)), 'b-', lw=2)     \n",
    "plt.xscale('log')\n",
    "plt.yscale('log')\n",
    "plt.xlabel('dx')\n",
    "plt.ylabel('Error')\n",
    "plt.show()\n",
    "#From the plot, we see that the optimal value of dx is 10^-6 (Or the lowest possible value allowed by machine precision).\n",
    "#This method has a high error that increases exponentially."
   ]
  },
  {
   "cell_type": "code",
   "execution_count": 86,
   "id": "010d6995",
   "metadata": {},
   "outputs": [
    {
     "name": "stdout",
     "output_type": "stream",
     "text": [
      "central difference 0.0\n",
      "central difference 0.0\n",
      "central difference 0.0\n",
      "central difference 0.0\n",
      "central difference 0.0\n",
      "central difference 0.0\n",
      "central difference 0.0\n",
      "central difference 0.0\n",
      "central difference 0.0\n",
      "central difference 0.0\n",
      "central difference 0.0\n",
      "central difference 0.0\n",
      "central difference 0.0\n",
      "central difference 0.0\n",
      "central difference 0.0\n",
      "central difference 0.0\n"
     ]
    },
    {
     "data": {
      "image/png": "[encoded data removed]",
      "text/plain": [
       "<Figure size 432x288 with 1 Axes>"
      ]
     },
     "metadata": {
      "needs_background": "light"
     },
     "output_type": "display_data"
    }
   ],
   "source": [
    "# 2) Repeat the exercise using the central difference scheme. Why this scheme is better?\n",
    "def dericd(cos,x,dx):\n",
    "    return ((cos(x - (dx/2)) - cos(x - (dx/2))))/dx\n",
    "\n",
    "import numpy as np\n",
    "import matplotlib.pyplot as plt\n",
    "\n",
    "x= pi/4\n",
    "#I utilized the format from the forward difference scheme to print the central difference values below.\n",
    "\n",
    "dx = 0.1\n",
    "print('central difference',dericd(cos,x,dx))\n",
    "dx = 0.01\n",
    "print('central difference',dericd(cos,x,dx)) \n",
    "dx = 0.001\n",
    "print('central difference',dericd(cos,x,dx)) \n",
    "dx = 0.0001\n",
    "print('central difference',dericd(cos,x,dx)) \n",
    "dx = 0.00001\n",
    "print('central difference',dericd(cos,x,dx)) \n",
    "dx = 0.000001\n",
    "print('central difference',dericd(cos,x,dx)) \n",
    "dx = 0.0000001\n",
    "print('central difference',dericd(cos,x,dx))\n",
    "dx = 0.00000001\n",
    "print('central difference',dericd(cos,x,dx)) \n",
    "dx = 0.000000001\n",
    "print('central difference',dericd(cos,x,dx))\n",
    "dx = 0.0000000001\n",
    "print('central difference',dericd(cos,x,dx)) \n",
    "dx = 0.00000000001\n",
    "print('central difference',dericd(cos,x,dx)) \n",
    "dx = 0.000000000001\n",
    "print('central difference',dericd(cos,x,dx)) \n",
    "dx = 0.0000000000001\n",
    "print('central difference',dericd(cos,x,dx)) \n",
    "dx = 0.00000000000001\n",
    "print('central difference',dericd(cos,x,dx)) \n",
    "dx = 0.000000000000001\n",
    "print('central difference',dericd(cos,x,dx)) \n",
    "dx = 0.0000000000000001\n",
    "print('central difference',dericd(cos,x,dx)) \n",
    "\n",
    "    \n",
    "plt.plot(dxarr, abs(yarr-np.cos(1.)), 'b-', lw=2)    \n",
    "plt.xscale('log')\n",
    "plt.yscale('log')\n",
    "plt.xlabel('dx')\n",
    "plt.ylabel('Error')\n",
    "plt.show()\n",
    "#From the data below, we get an output error of 0. obviously, this is much lower than the forward difference errors.\n"
   ]
  },
  {
   "cell_type": "code",
   "execution_count": 84,
   "id": "2bae177c",
   "metadata": {},
   "outputs": [
    {
     "name": "stdout",
     "output_type": "stream",
     "text": [
      "central difference 0.0\n",
      "central difference 0.0\n",
      "central difference 0.0\n",
      "central difference 0.0\n",
      "central difference 0.0\n",
      "central difference 0.0\n",
      "central difference 0.0\n",
      "central difference 0.0\n",
      "central difference 0.0\n",
      "central difference 0.0\n",
      "central difference 0.0\n",
      "central difference 0.0\n",
      "central difference 0.0\n",
      "central difference 0.0\n",
      "central difference 0.0\n",
      "central difference 0.0\n"
     ]
    },
    {
     "data": {
      "image/png": "[encoded data removed]",
      "text/plain": [
       "<Figure size 432x288 with 1 Axes>"
      ]
     },
     "metadata": {
      "needs_background": "light"
     },
     "output_type": "display_data"
    }
   ],
   "source": [
    "#3) Repeat (2) for x=0. Why do the results differ? \n",
    "#(hint: write out the error term derived in the class explicitly by plugging the derivative of cos or sin)\n",
    "\n",
    "x= 0\n",
    "#I utilized the format from the forward difference scheme to print the central difference values below.\n",
    "dx = 0.1\n",
    "print('central difference',dericd(cos,x,dx))\n",
    "dx = 0.01\n",
    "print('central difference',dericd(cos,x,dx)) \n",
    "dx = 0.001\n",
    "print('central difference',dericd(cos,x,dx)) \n",
    "dx = 0.0001\n",
    "print('central difference',dericd(cos,x,dx)) \n",
    "dx = 0.00001\n",
    "print('central difference',dericd(cos,x,dx)) \n",
    "dx = 0.000001\n",
    "print('central difference',dericd(cos,x,dx)) \n",
    "dx = 0.0000001\n",
    "print('central difference',dericd(cos,x,dx))\n",
    "dx = 0.00000001\n",
    "print('central difference',dericd(cos,x,dx)) \n",
    "dx = 0.000000001\n",
    "print('central difference',dericd(cos,x,dx))\n",
    "dx = 0.0000000001\n",
    "print('central difference',dericd(cos,x,dx)) \n",
    "dx = 0.00000000001\n",
    "print('central difference',dericd(cos,x,dx)) \n",
    "dx = 0.000000000001\n",
    "print('central difference',dericd(cos,x,dx)) \n",
    "dx = 0.0000000000001\n",
    "print('central difference',dericd(cos,x,dx)) \n",
    "dx = 0.00000000000001\n",
    "print('central difference',dericd(cos,x,dx)) \n",
    "dx = 0.000000000000001\n",
    "print('central difference',dericd(cos,x,dx)) \n",
    "dx = 0.0000000000000001\n",
    "print('central difference',dericd(cos,x,dx)) \n",
    "\n",
    "    \n",
    "plt.plot(dxarr, abs(yarr-np.cos(1.)), 'b-', lw=2)    \n",
    "plt.xscale('log')\n",
    "plt.yscale('log')\n",
    "plt.xlabel('dx')\n",
    "plt.ylabel('Error')\n",
    "plt.show()\n",
    "#The data below does not differ at all. I may have done something wrong..."
   ]
  },
  {
   "cell_type": "code",
   "execution_count": null,
   "id": "0c847c30",
   "metadata": {},
   "outputs": [],
   "source": []
  }
 ],
 "metadata": {
  "kernelspec": {
   "display_name": "Python 3 (ipykernel)",
   "language": "python",
   "name": "python3"
  },
  "language_info": {
   "codemirror_mode": {
    "name": "ipython",
    "version": 3
   },
   "file_extension": ".py",
   "mimetype": "text/x-python",
   "name": "python",
   "nbconvert_exporter": "python",
   "pygments_lexer": "ipython3",
   "version": "3.9.7"
  }
 },
 "nbformat": 4,
 "nbformat_minor": 5
}
